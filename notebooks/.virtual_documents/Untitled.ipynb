import os
import pandas as pd
import numpy as np


df1 = pd.read_excel("../results/PyRadiomics_pre_pancreas.xlsx", sheet_name="Natally")
df2 = pd.read_excel("../../data/Pyradiomics_PrePancreas.xlsx", sheet_name="Natally")


l1 = df1.columns.tolist()
l2 = df2.columns.tolist()


missing_in_df1 = set(l2) - set(l1)





missing_in_df1



